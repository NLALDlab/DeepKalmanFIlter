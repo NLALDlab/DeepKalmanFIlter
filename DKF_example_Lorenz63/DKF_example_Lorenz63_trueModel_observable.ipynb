{
 "cells": [
  {
   "cell_type": "markdown",
   "metadata": {},
   "source": [
    "**Deep Kalman Filter example with Lorenz63: true model, fully observable.**\n",
    "\n",
    "Chinellato, E., Marcuzzi, F.: State, parameters and hidden dynamics estimation with\n",
    "the deep kalman filter: regularization strategies. *Journal of Computational Science* **87**, 102569 (2025). https://doi.org/https://doi.org/10.1007/978-3-031-63775-9"
   ]
  },
  {
   "cell_type": "code",
   "execution_count": null,
   "metadata": {},
   "outputs": [],
   "source": [
    "import matplotlib.pyplot as plt\n",
    "from IPython.display import clear_output\n",
    "import numpy as np\n",
    "import scipy.io as sio\n",
    "import pickle\n",
    "import sys\n",
    "\n",
    "DKFDirectory = '..'\n",
    "sys.path.append(DKFDirectory)\n",
    "import CreateTrainingSet_Lorenz63_4DKF\n",
    "\n",
    "from DeepKalmanFilter.main import main\n",
    "from DeepKalmanFilter.ConstructLaplacianMatrices import *\n",
    "from DeepKalmanFilter.ConstructSGMatrices import *\n",
    "from DeepKalmanFilter.ConstructTVMatrices import *\n",
    "from DeepKalmanFilter.Utility import *\n",
    "WorkingDirectory = './'"
   ]
  },
  {
   "cell_type": "code",
   "execution_count": null,
   "metadata": {},
   "outputs": [],
   "source": [
    "# dataset creation:\n",
    "CreateTrainingSet_Lorenz63_4DKF.create(Experiment='L63_1')"
   ]
  },
  {
   "cell_type": "code",
   "execution_count": null,
   "metadata": {
    "collapsed": true,
    "scrolled": false
   },
   "outputs": [],
   "source": []
  },
  {
   "cell_type": "code",
   "execution_count": null,
   "metadata": {
    "collapsed": true
   },
   "outputs": [],
   "source": [
    "TrainingBatchNum = 100 #300 #150 #1000\n",
    "TrainingBatchSize = 1\n",
    "\n",
    "# DKF parameters setting:\n",
    "NetParameters = {}\n",
    "### General parameters:\n",
    "NetParameters['Experiment'] = sio.loadmat('Experiment.mat',squeeze_me = True)['Experiment']\n",
    "NetParameters['Layers'] = sio.loadmat(f'LayersExp{NetParameters[\"Experiment\"]}.mat',squeeze_me = True)['Layers']\n",
    "NetParameters['Model'] = loadPickle(f'ModelExp{NetParameters[\"Experiment\"]}.mat')\n",
    "NetParameters['C'] = sio.loadmat(f'CExp{NetParameters[\"Experiment\"]}.mat',squeeze_me = True)['C']\n",
    "NetParameters['StateDimension'] = NetParameters['C'].shape[1]\n",
    "NetParameters['ObservationDimension'] = NetParameters['C'].shape[0]\n",
    "NetParameters['WeightMats'] = 'Input'  #Supported values: Input, Identity  \n",
    "NetParameters['HiddenDynamicsNumber'] = 1\n",
    "NetParameters['HiddenDynamicsDimension'] = [sio.loadmat(f'HiddenDynDimExp{NetParameters[\"Experiment\"]}.mat',squeeze_me = True)['HiddenDynDim']]*NetParameters['HiddenDynamicsNumber']\n",
    "NetParameters['ActivateModelDiscovery'] = 'No' #'No','Yes'\n",
    "### Learning parameters:\n",
    "NetParameters['SharedWeights'] = 'No' #'No','Yes'\n",
    "NetParameters['BackPropagation'] = 'Complete' #'Complete','Truncated'                                           #Supported values: Complete, Truncated  \n",
    "NetParameters['ProjectDynamics'] = 'No' #'No','Yes'\n",
    "NetParameters['Jacobians'] = 'Approximated' #'Approximated', 'Algebraic'  \n",
    "NetParameters['FiniteDifferences'] = 'Central' #'Supported values: 'Forward', 'Backward', 'Central'  \n",
    "NetParameters['FiniteDifferencesSkip'] = 1e-9 \n",
    "NetParameters['GainLearningRate'] = (1e-5) / TrainingBatchSize\n",
    "NetParameters['GainLearningRateReduction'] = 1\n",
    "NetParameters['GainLearningRateIncrease'] = 1e2\n",
    "NetParameters['DynamicsLearningRate'] = (1.8e-2) / TrainingBatchSize\n",
    "NetParameters['DynamicsLearningRateReduction'] = 0.2\n",
    "### Loss function parameters:\n",
    "Pen1Val = 1e0\n",
    "Pen2Val = np.ones(NetParameters['Layers']) * 1e0\n",
    "NormPen = max(Pen1Val, Pen2Val.max())\n",
    "NetParameters['Penalty0'] = 1.e6\n",
    "NetParameters['Penalty1'] = np.ones(NetParameters['Layers']) * Pen1Val / NormPen\n",
    "NetParameters['Penalty2'] = Pen2Val / NormPen\n",
    "NetParameters['Penalty3'] = 1.e0 / (NetParameters['StateDimension'] * NetParameters['ObservationDimension'])\n",
    "NetParameters['Penalty4'] = 0.01 #0.2 # soft-thresholding\n",
    "#NetParameters['WinLen'] = 31\n",
    "#NetParameters['StencilA0'], NetParameters['StencilA1'] = ConstructSGMatrices(NetParameters['WinLen'])\n",
    "NetParameters['L'], NetParameters['LtL'] = ConstructLaplacianMatrices( NetParameters['Layers'], NetParameters['Model']['SamplingTimes'] )\n",
    "### Adam (learning optimizer) parameters:\n",
    "NetParameters['Optimizer'] = 'Adam'\n",
    "NetParameters['BetaMoment1'] = 0.9\n",
    "NetParameters['BetaMoment2'] = 0.999\n",
    "NetParameters['Initialization'] = 'Deterministic'   #'Random', 'Deterministic', 'DeterministcComplete'  \n",
    "NetParameters['InitializationMean'] = 0\n",
    "NetParameters['InitializationSigma'] = 0.0001\n",
    "NetParameters['AdamEpsilon'] = 1e-16\n",
    "### Learning stop condition parameters:\n",
    "NetParameters['TrainingConditionStop'] = 'Residues' #'Whiteness', 'Residues'  \n",
    "NetParameters['ResidueDecreaseThreshold'] = 1e-3\n",
    "NetParameters['ActivateWhitenessMask'] = 'Yes'\n",
    "NetParameters['WhitenessLagCounter'] = 1\n",
    "NetParameters['WhitenessIterationCheck'] = 20\n",
    "NetParameters['WhitenessUpdateCheck'] = 8\n",
    "NetParameters['WhitenessDecreaseThreshold'] = -1e-3\n",
    "\n",
    "# Save net parameters\n",
    "sio.savemat('DefaultNetParameters.mat', {'NetParameters': NetParameters})"
   ]
  },
  {
   "cell_type": "code",
   "execution_count": null,
   "metadata": {
    "scrolled": false
   },
   "outputs": [],
   "source": [
    "main(WorkingDirectory,NetParameters,TrainingBatchSize,TrainingBatchNum)"
   ]
  },
  {
   "cell_type": "code",
   "execution_count": null,
   "metadata": {
    "collapsed": true
   },
   "outputs": [],
   "source": []
  },
  {
   "cell_type": "code",
   "execution_count": null,
   "metadata": {
    "collapsed": true,
    "scrolled": true
   },
   "outputs": [],
   "source": []
  },
  {
   "cell_type": "code",
   "execution_count": null,
   "metadata": {
    "collapsed": true
   },
   "outputs": [],
   "source": []
  }
 ],
 "metadata": {
  "kernelspec": {
   "display_name": "Python 3",
   "language": "python",
   "name": "python3"
  },
  "language_info": {
   "codemirror_mode": {
    "name": "ipython",
    "version": 3
   },
   "file_extension": ".py",
   "mimetype": "text/x-python",
   "name": "python",
   "nbconvert_exporter": "python",
   "pygments_lexer": "ipython3",
   "version": "3.6.8"
  }
 },
 "nbformat": 4,
 "nbformat_minor": 2
}
